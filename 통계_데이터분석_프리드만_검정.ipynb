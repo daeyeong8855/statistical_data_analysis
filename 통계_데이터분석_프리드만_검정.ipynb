{
  "nbformat": 4,
  "nbformat_minor": 0,
  "metadata": {
    "colab": {
      "provenance": [],
      "authorship_tag": "ABX9TyMXKOwYlSFNOuGBVtPckh/V",
      "include_colab_link": true
    },
    "kernelspec": {
      "name": "python3",
      "display_name": "Python 3"
    },
    "language_info": {
      "name": "python"
    }
  },
  "cells": [
    {
      "cell_type": "markdown",
      "metadata": {
        "id": "view-in-github",
        "colab_type": "text"
      },
      "source": [
        "<a href=\"https://colab.research.google.com/github/daeyeong8855/statistical_data_analysis/blob/main/%ED%86%B5%EA%B3%84_%EB%8D%B0%EC%9D%B4%ED%84%B0%EB%B6%84%EC%84%9D_%ED%94%84%EB%A6%AC%EB%93%9C%EB%A7%8C_%EA%B2%80%EC%A0%95.ipynb\" target=\"_parent\"><img src=\"https://colab.research.google.com/assets/colab-badge.svg\" alt=\"Open In Colab\"/></a>"
      ]
    },
    {
      "cell_type": "markdown",
      "source": [
        "##프리드만 검정\n",
        "크러스칼 월리스와 유사한 비모수 검정\n",
        "<br>2개 이상의 처리조건에서 사용\n",
        "<br>약의 용량(저,중,고)에 따른 차이 구분\n",
        "<br>반복 측정에 사용\n",
        "\n",
        "<br>월리스는 순위합, 독립표본 \n",
        "<br>프리드만은 순위 평균, 차이측정, 대응표본"
      ],
      "metadata": {
        "id": "LR62YPpS4ORc"
      }
    },
    {
      "cell_type": "code",
      "execution_count": 12,
      "metadata": {
        "colab": {
          "base_uri": "https://localhost:8080/",
          "height": 713
        },
        "id": "lVUgxrVA4Ksc",
        "outputId": "df8b3c6b-b643-4a8e-9842-b154758dd42f"
      },
      "outputs": [
        {
          "output_type": "stream",
          "name": "stdout",
          "text": [
            "검정 통계량 0.20000000000000284\n",
            "p-val 0.9048374180359583\n",
            "[[13.24869073 12.92421587  7.79876165]\n",
            " [ 8.77648717  5.87971858 12.28944742]\n",
            " [ 8.9436565   9.35516559 11.80318144]\n",
            " [ 7.85406276  9.23189129 11.00498868]\n",
            " [11.73081526 12.26753888 11.8017119 ]\n",
            " [ 5.39692261  7.80021747  8.63254428]\n",
            " [13.48962353  9.65514358  9.75421955]\n",
            " [ 8.4775862   8.24428316  8.12846113]\n",
            " [10.63807819 10.08442749  9.46422384]\n",
            " [ 9.50125925 11.16563043 11.06071093]]\n",
            "[13.24869073 12.92421587  7.79876165] [ 8.77648717  5.87971858 12.28944742] [ 8.9436565   9.35516559 11.80318144] [ 7.85406276  9.23189129 11.00498868] [11.73081526 12.26753888 11.8017119 ] [5.39692261 7.80021747 8.63254428] [13.48962353  9.65514358  9.75421955] [8.4775862  8.24428316 8.12846113] [10.63807819 10.08442749  9.46422384] [ 9.50125925 11.16563043 11.06071093]\n"
          ]
        },
        {
          "output_type": "display_data",
          "data": {
            "text/plain": [
              "<Figure size 640x480 with 1 Axes>"
            ],
            "image/png": "[encoded data removed]"
          },
          "metadata": {}
        }
      ],
      "source": [
        "import numpy as np\n",
        "import matplotlib.pyplot as plt\n",
        "from scipy.stats import friedmanchisquare\n",
        "\n",
        "np.random.seed(1)\n",
        "group1 = np.random.normal(loc=10, scale=2, size=10)\n",
        "group2 = np.random.normal(loc=10, scale=2, size=10)\n",
        "group3 = np.random.normal(loc=10, scale=2, size=10)\n",
        "\n",
        "# np.stack(arrays, axis=0)\n",
        "data = np.stack([group1, group2, group3], axis =1)\n",
        "\n",
        "# 프리드만 검정 수행\n",
        "st, p_val = friedmanchisquare(*data.T) \n",
        "# *data.T = T는 전치, *는 각각 전체, data 배열을 전치(transpose)한 후, 각각의 배열을 개별적인 인자로 전달하는 역할을 합니다.\n",
        "print(\"검정 통계량\", st)\n",
        "print(\"p-val\", p_val)\n",
        "\n",
        "print(data)\n",
        "print(*data) # 인자 패키징, 행렬을 각각의 단일행으로 쪼갠다고 생각해도 됨\n",
        "\n",
        "# 박스플롯으로 시각화\n",
        "fig, ax = plt.subplots()\n",
        "ax.boxplot(data)\n",
        "ax.set_xticklabels(['Group 1', 'Group 2', 'Group 3'])\n",
        "ax.set_ylabel('Value')\n",
        "ax.set_title('Friedman Test Result')\n",
        "plt.show()"
      ]
    },
    {
      "cell_type": "markdown",
      "source": [
        "사후분석 : 각 집단끼리 확인"
      ],
      "metadata": {
        "id": "qyTfqZVi_1DY"
      }
    },
    {
      "cell_type": "code",
      "source": [],
      "metadata": {
        "id": "9GANoday73Cj"
      },
      "execution_count": null,
      "outputs": []
    }
  ]
}