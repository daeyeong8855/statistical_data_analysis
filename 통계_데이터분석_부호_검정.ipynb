{
  "nbformat": 4,
  "nbformat_minor": 0,
  "metadata": {
    "colab": {
      "provenance": [],
      "authorship_tag": "ABX9TyOMC8x8iUbtcRUDo5e4u1zw",
      "include_colab_link": true
    },
    "kernelspec": {
      "name": "python3",
      "display_name": "Python 3"
    },
    "language_info": {
      "name": "python"
    }
  },
  "cells": [
    {
      "cell_type": "markdown",
      "metadata": {
        "id": "view-in-github",
        "colab_type": "text"
      },
      "source": [
        "<a href=\"https://colab.research.google.com/github/daeyeong8855/statistical_data_analysis/blob/main/%ED%86%B5%EA%B3%84_%EB%8D%B0%EC%9D%B4%ED%84%B0%EB%B6%84%EC%84%9D_%EB%B6%80%ED%98%B8_%EA%B2%80%EC%A0%95.ipynb\" target=\"_parent\"><img src=\"https://colab.research.google.com/assets/colab-badge.svg\" alt=\"Open In Colab\"/></a>"
      ]
    },
    {
      "cell_type": "code",
      "execution_count": 1,
      "metadata": {
        "id": "WQmQ2_lmwgVy",
        "colab": {
          "base_uri": "https://localhost:8080/"
        },
        "outputId": "f7e408f3-6705-434d-bc29-7276a3ef1ba6"
      },
      "outputs": [
        {
          "output_type": "stream",
          "name": "stdout",
          "text": [
            "0.5034446716308594 8\n"
          ]
        },
        {
          "output_type": "stream",
          "name": "stderr",
          "text": [
            "<ipython-input-1-3da082d553d8>:16: DeprecationWarning: 'binom_test' is deprecated in favour of 'binomtest' from version 1.7.0 and will be removed in Scipy 1.12.0.\n",
            "  p_val = binom_test(n_above_mu0, n=n)\n"
          ]
        }
      ],
      "source": [
        "import numpy as np\n",
        "from scipy.stats import binom_test\n",
        "\n",
        "# 가상의 데이터 생성\n",
        "np.random.seed(42)\n",
        "n = 20\n",
        "nm = 9\n",
        "data = np.random.normal(nm, size=n)\n",
        "\n",
        "# H0 mu 설정\n",
        "mu0 = 9\n",
        "\n",
        "n_above_mu0 = sum(data > mu0)\n",
        "\n",
        "# 부호 검정\n",
        "p_val = binom_test(n_above_mu0, n=n)\n",
        "\n",
        "print(p_val, n_above_mu0)"
      ]
    },
    {
      "cell_type": "code",
      "source": [],
      "metadata": {
        "id": "M66OoiCKE984"
      },
      "execution_count": null,
      "outputs": []
    }
  ]
}