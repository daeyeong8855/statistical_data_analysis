{
  "nbformat": 4,
  "nbformat_minor": 0,
  "metadata": {
    "colab": {
      "provenance": [],
      "authorship_tag": "ABX9TyOWg5LSNxV4TQjurT3inZ4F",
      "include_colab_link": true
    },
    "kernelspec": {
      "name": "python3",
      "display_name": "Python 3"
    },
    "language_info": {
      "name": "python"
    }
  },
  "cells": [
    {
      "cell_type": "markdown",
      "metadata": {
        "id": "view-in-github",
        "colab_type": "text"
      },
      "source": [
        "<a href=\"https://colab.research.google.com/github/daeyeong8855/statistical_data_analysis/blob/main/%ED%86%B5%EA%B3%84_%EB%8D%B0%EC%9D%B4%ED%84%B0%EB%B6%84%EC%84%9D_%EA%B5%B0%EC%A7%91%EB%B6%84%EC%84%9D.ipynb\" target=\"_parent\"><img src=\"https://colab.research.google.com/assets/colab-badge.svg\" alt=\"Open In Colab\"/></a>"
      ]
    },
    {
      "cell_type": "markdown",
      "source": [
        "* 척도가 같으면 유클리디안, 다르면 멘하탄\n",
        "* 코사인거리는 거리가 아닌 각도"
      ],
      "metadata": {
        "id": "A7cdEuGvgLpo"
      }
    },
    {
      "cell_type": "code",
      "execution_count": null,
      "metadata": {
        "colab": {
          "base_uri": "https://localhost:8080/"
        },
        "id": "eHKE39YafGTk",
        "outputId": "f925b21d-20e3-485a-8932-a9f329922c61"
      },
      "outputs": [
        {
          "output_type": "stream",
          "name": "stdout",
          "text": [
            "[[ 7.0817137   8.92338307]\n",
            " [-8.74351865 -0.69795697]\n",
            " [ 4.69354389  5.31392297]\n",
            " [-7.00167837 -3.94565715]]\n",
            "[0 3 1 2 1 1 3 1 1 0 0 0 2 0 2 2 2 3 2 3 1 3 0 2 1 3 0 2 2 2 1 1 1 1 1 2 3\n",
            " 3 0 3 3 2 3 1 1 3 0 0 3 1 2 1 1 3 2 2 1 2 1 3 3 0 2 3 0 3 2 1 0 2 1 3 3 1\n",
            " 3 0 1 2 2 2 0 2 2 2 0 1 0 3 2 0 0 0 2 3 3 3 0 3 0 0]\n",
            "군집1, \n",
            " 중심점 : [7.0817137  8.92338307] \n",
            " 데이터 개수 : 23\n",
            "군집2, \n",
            " 중심점 : [-8.74351865 -0.69795697] \n",
            " 데이터 개수 : 24\n",
            "군집3, \n",
            " 중심점 : [4.69354389 5.31392297] \n",
            " 데이터 개수 : 27\n",
            "군집4, \n",
            " 중심점 : [-7.00167837 -3.94565715] \n",
            " 데이터 개수 : 26\n"
          ]
        },
        {
          "output_type": "stream",
          "name": "stderr",
          "text": [
            "/usr/local/lib/python3.10/dist-packages/sklearn/cluster/_kmeans.py:870: FutureWarning: The default value of `n_init` will change from 10 to 'auto' in 1.4. Set the value of `n_init` explicitly to suppress the warning\n",
            "  warnings.warn(\n"
          ]
        }
      ],
      "source": [
        "from sklearn.datasets import make_blobs\n",
        "from sklearn.cluster import KMeans\n",
        "\n",
        "x, y = make_blobs(n_samples=100, centers=4, random_state=777)\n",
        "\n",
        "# KMeans 알고리즘 적용\n",
        "kMeans = KMeans(n_clusters=4, random_state=777)\n",
        "kMeans.fit(x)\n",
        "\n",
        "# 군집 중심점 확인\n",
        "centroids = kMeans.cluster_centers_\n",
        "print(centroids)\n",
        "\n",
        "labels = kMeans.labels_\n",
        "print(labels)\n",
        "\n",
        "for i in range(len(centroids)) :\n",
        "  cluster_data = x[labels == i] # 해당 군집에 속하는 데이터\n",
        "  cluster_center = centroids[i] # 해당 군집의 중심점\n",
        "  print (f\"군집{i+1}, \\n 중심점 : {cluster_center} \\n 데이터 개수 : {len(cluster_data)}\")"
      ]
    },
    {
      "cell_type": "code",
      "source": [],
      "metadata": {
        "id": "dgARZ5nAfnbB"
      },
      "execution_count": null,
      "outputs": []
    }
  ]
}