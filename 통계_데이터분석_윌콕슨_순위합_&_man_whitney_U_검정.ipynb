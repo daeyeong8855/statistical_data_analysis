{
  "nbformat": 4,
  "nbformat_minor": 0,
  "metadata": {
    "colab": {
      "provenance": [],
      "authorship_tag": "ABX9TyPjpnHCHS7IbJDs9COfcoQP",
      "include_colab_link": true
    },
    "kernelspec": {
      "name": "python3",
      "display_name": "Python 3"
    },
    "language_info": {
      "name": "python"
    }
  },
  "cells": [
    {
      "cell_type": "markdown",
      "metadata": {
        "id": "view-in-github",
        "colab_type": "text"
      },
      "source": [
        "<a href=\"https://colab.research.google.com/github/daeyeong8855/statistical_data_analysis/blob/main/%ED%86%B5%EA%B3%84_%EB%8D%B0%EC%9D%B4%ED%84%B0%EB%B6%84%EC%84%9D_%EC%9C%8C%EC%BD%95%EC%8A%A8_%EC%88%9C%EC%9C%84%ED%95%A9_%26_man_whitney_U_%EA%B2%80%EC%A0%95.ipynb\" target=\"_parent\"><img src=\"https://colab.research.google.com/assets/colab-badge.svg\" alt=\"Open In Colab\"/></a>"
      ]
    },
    {
      "cell_type": "markdown",
      "source": [
        "###맨 휘트니 검정 : 두 집단의 차이를 확인\n",
        "\n",
        "독립적이어야 함, 대응 표본 사용 불가 <br>\n",
        "대응 표본 : 동일 집단에서 얻은 두 표본 <br>\n",
        "샘플의 크기가 작을 때는 검정력 하락 <br>\n",
        "모집단의 분포가 완전히 다르면 검정력 하락 <br>\n",
        "두 그룹간의 차이만 확인 가능"
      ],
      "metadata": {
        "id": "y5az-P_GtXS5"
      }
    },
    {
      "cell_type": "code",
      "execution_count": 5,
      "metadata": {
        "colab": {
          "base_uri": "https://localhost:8080/",
          "height": 524
        },
        "id": "mex84Ez8R4qm",
        "outputId": "ae52a52a-5f00-42dd-cf4a-52e7ba45e1f4"
      },
      "outputs": [
        {
          "output_type": "stream",
          "name": "stdout",
          "text": [
            "44.0 0.6744515499984522\n",
            "귀무가설 기각 불가\n"
          ]
        },
        {
          "output_type": "stream",
          "name": "stderr",
          "text": [
            "/usr/local/lib/python3.10/dist-packages/seaborn/categorical.py:166: FutureWarning: Setting a gradient palette using color= is deprecated and will be removed in version 0.13. Set `palette='dark:.3'` for same effect.\n",
            "  warnings.warn(msg, FutureWarning)\n"
          ]
        },
        {
          "output_type": "display_data",
          "data": {
            "text/plain": [
              "<Figure size 640x480 with 1 Axes>"
            ],
            "image/png": "[encoded data removed]"
          },
          "metadata": {}
        }
      ],
      "source": [
        "import numpy as np\n",
        "import pandas as pd\n",
        "import matplotlib.pyplot as plt\n",
        "from scipy.stats import mannwhitneyu\n",
        "import os\n",
        "import seaborn as sns\n",
        "\n",
        "data = {\n",
        "    'group1' : [3,2,5,1,4,2,6,7,9,8],\n",
        "    'group2' : [6,4,6,7,8,4,3,6,3,4]\n",
        "}\n",
        "\n",
        "df = pd.DataFrame(data)\n",
        "\n",
        "os.makedirs('./data', exist_ok=True)\n",
        "df.to_csv('./data/sample.csv', index=False, encoding='utf-8')\n",
        "\n",
        "data = pd.read_csv(\"./data/sample.csv\")\n",
        "\n",
        "st, p = mannwhitneyu(data['group1'], data['group2'])\n",
        "print(st,p)\n",
        "\n",
        "if p > 0.05 :\n",
        "  print (\"귀무가설 기각 불가\")\n",
        "else :\n",
        "  print(\"귀무가설 기각\")\n",
        "\n",
        "\n",
        "sns.boxplot(data=data[['group1', 'group2']], palette=\"Set3\")\n",
        "sns.stripplot(data=data[['group1', 'group2']], color='.3', size=4)\n",
        "sns.despine(trim=True)\n",
        "plt.show()"
      ]
    },
    {
      "cell_type": "code",
      "source": [
        "from scipy.stats import levene\n",
        "\n",
        "stat, p = levene(data['group1'], data['group2'])\n",
        "\n",
        "print(stat, p)"
      ],
      "metadata": {
        "colab": {
          "base_uri": "https://localhost:8080/"
        },
        "id": "oO7wkoEjVMQN",
        "outputId": "7c986c51-3339-421b-9980-cfee02241650"
      },
      "execution_count": 7,
      "outputs": [
        {
          "output_type": "stream",
          "name": "stdout",
          "text": [
            "2.8656716417910433 0.10772397492152604\n"
          ]
        }
      ]
    },
    {
      "cell_type": "code",
      "source": [
        "from scipy import stats\n",
        "\n",
        "stat, p = mannwhitneyu(data['group1'], data['group2'])\n",
        "\n",
        "n1,n2 = len(data['group1']), len(data['group2'])\n",
        "print(n1,n2)\n",
        "\n",
        "if stat > n1 * n2 / 2 :\n",
        "  stat = n1 * n2 - stat\n",
        "\n",
        "p_val = 2 * stats.norm.cdf(-abs(stat) / np.sqrt(n1 * n2 * (n1 + n2 +1)/12))\n",
        "\n",
        "print(stat)\n",
        "print(p_val)"
      ],
      "metadata": {
        "colab": {
          "base_uri": "https://localhost:8080/"
        },
        "id": "Mt3vyc77ZawQ",
        "outputId": "9676cf7e-cc27-44fb-b1a8-fcd0993209a1"
      },
      "execution_count": 11,
      "outputs": [
        {
          "output_type": "stream",
          "name": "stdout",
          "text": [
            "10 10\n",
            "44.0\n",
            "0.000880743190741727\n"
          ]
        }
      ]
    },
    {
      "cell_type": "code",
      "source": [
        "np.random.seed(42)\n",
        "group1 = np.random.normal(loc=6, scale = 1.5, size=100)\n",
        "group2 = np.random.normal(loc=6, scale = 1.5, size=100)\n",
        "\n",
        "data = pd.DataFrame({\n",
        "    'group1' : group1,\n",
        "    'group2' : group2\n",
        "\n",
        "})\n",
        "\n",
        "os.makedirs('./data', exist_ok = True)\n",
        "data.to_csv('./data/sleep_data.csv', index=False, encoding='utf-8')\n",
        "\n",
        "sleep_data = pd.read_csv('./data/sleep_data.csv')\n",
        "\n",
        "group1_data = sleep_data['group1']\n",
        "group2_data = sleep_data['group2']\n",
        "\n",
        "\n",
        "# two-sided = 양측검정 {'greater', 'less', 'two-sided'}\n",
        "st, p_val = mannwhitneyu(group1_data, group2_data, alternative='two-sided')\n",
        "print(st, p_val)\n",
        "\n",
        "if p_val > 0.05 :\n",
        "  print(\"귀무 : 두 집단에 차이가 없음\")\n",
        "else :\n",
        "  print(\"두 집단에 차이 있음\")"
      ],
      "metadata": {
        "colab": {
          "base_uri": "https://localhost:8080/"
        },
        "id": "8-VQtHhUkUvy",
        "outputId": "d3b63677-b270-44f7-e98d-0065a1c2a850"
      },
      "execution_count": 21,
      "outputs": [
        {
          "output_type": "stream",
          "name": "stdout",
          "text": [
            "4735.0 0.5181003943818003\n",
            "귀무 : 두 집단에 차이가 없음\n"
          ]
        }
      ]
    },
    {
      "cell_type": "code",
      "source": [],
      "metadata": {
        "id": "Y23LQZjTsKdX"
      },
      "execution_count": null,
      "outputs": []
    }
  ]
}