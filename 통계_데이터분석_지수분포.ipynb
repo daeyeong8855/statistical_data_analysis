{
  "nbformat": 4,
  "nbformat_minor": 0,
  "metadata": {
    "colab": {
      "provenance": [],
      "authorship_tag": "ABX9TyP/5PB0rV6+10j41Vsa0Vrq",
      "include_colab_link": true
    },
    "kernelspec": {
      "name": "python3",
      "display_name": "Python 3"
    },
    "language_info": {
      "name": "python"
    }
  },
  "cells": [
    {
      "cell_type": "markdown",
      "metadata": {
        "id": "view-in-github",
        "colab_type": "text"
      },
      "source": [
        "<a href=\"https://colab.research.google.com/github/daeyeong8855/statistical_data_analysis/blob/main/%ED%86%B5%EA%B3%84_%EB%8D%B0%EC%9D%B4%ED%84%B0%EB%B6%84%EC%84%9D_%EC%A7%80%EC%88%98%EB%B6%84%ED%8F%AC.ipynb\" target=\"_parent\"><img src=\"https://colab.research.google.com/assets/colab-badge.svg\" alt=\"Open In Colab\"/></a>"
      ]
    },
    {
      "cell_type": "code",
      "execution_count": 1,
      "metadata": {
        "id": "eQjMtoL1EtdV"
      },
      "outputs": [],
      "source": [
        "import numpy as np\n",
        "import matplotlib.pyplot as plt"
      ]
    },
    {
      "cell_type": "code",
      "source": [
        "# 고객 서비스 센터 대기 시간을 모델링하는 지수 분포 생성\n",
        "def generate_waiting_time(lam, size) :\n",
        "  return np.random.exponential(scale=1/lam, size=size)\n",
        "\n",
        "# 고객 서비스 센터 대기 시간 분포 측정 및 시각화\n",
        "def measure_waiting_time(lam, num_samples) :\n",
        "  waiting_times = generate_waiting_time(lam, num_samples)\n",
        "\n",
        "  #대기 시간 분포 히스토그램\n",
        "  plt.hist(waiting_times, bins=30, density=True, alpha=0.8)\n",
        "  plt.show()\n",
        "\n",
        "measure_waiting_time(0.5,1000)"
      ],
      "metadata": {
        "colab": {
          "base_uri": "https://localhost:8080/",
          "height": 430
        },
        "id": "6Z4g0RqOE3eT",
        "outputId": "e6f8f2cf-62e6-42ad-a6b1-3c127ac9e834"
      },
      "execution_count": 5,
      "outputs": [
        {
          "output_type": "display_data",
          "data": {
            "text/plain": [
              "<Figure size 640x480 with 1 Axes>"
            ],
            "image/png": "[encoded data removed]"
          },
          "metadata": {}
        }
      ]
    },
    {
      "cell_type": "code",
      "source": [],
      "metadata": {
        "id": "IMI1jhrKFWhY"
      },
      "execution_count": null,
      "outputs": []
    }
  ]
}