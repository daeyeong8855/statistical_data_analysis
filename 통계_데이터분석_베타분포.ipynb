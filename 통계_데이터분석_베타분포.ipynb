{
  "nbformat": 4,
  "nbformat_minor": 0,
  "metadata": {
    "colab": {
      "provenance": [],
      "authorship_tag": "ABX9TyNztzxgwhxgQmRElbQwpFrW",
      "include_colab_link": true
    },
    "kernelspec": {
      "name": "python3",
      "display_name": "Python 3"
    },
    "language_info": {
      "name": "python"
    }
  },
  "cells": [
    {
      "cell_type": "markdown",
      "metadata": {
        "id": "view-in-github",
        "colab_type": "text"
      },
      "source": [
        "<a href=\"https://colab.research.google.com/github/daeyeong8855/statistical_data_analysis/blob/main/%ED%86%B5%EA%B3%84_%EB%8D%B0%EC%9D%B4%ED%84%B0%EB%B6%84%EC%84%9D_%EB%B2%A0%ED%83%80%EB%B6%84%ED%8F%AC.ipynb\" target=\"_parent\"><img src=\"https://colab.research.google.com/assets/colab-badge.svg\" alt=\"Open In Colab\"/></a>"
      ]
    },
    {
      "cell_type": "code",
      "execution_count": 7,
      "metadata": {
        "colab": {
          "base_uri": "https://localhost:8080/",
          "height": 430
        },
        "id": "OdOOX5BQQBjl",
        "outputId": "87597adb-cb6e-4254-9343-9cb92deb335d"
      },
      "outputs": [
        {
          "output_type": "display_data",
          "data": {
            "text/plain": [
              "<Figure size 640x480 with 1 Axes>"
            ],
            "image/png": "[encoded data removed]"
          },
          "metadata": {}
        }
      ],
      "source": [
        "import numpy as np\n",
        "import matplotlib.pyplot as plt\n",
        "from scipy.stats import beta\n",
        "\n",
        "# 모수 설정\n",
        "alpha = 2 # 높아지면 우측 증가\n",
        "beta = 5  # 높아지면 좌측 증가\n",
        "\n",
        "\n",
        "user_data = np.random.beta(alpha, beta, size=1000)\n",
        "\n",
        "# 사용자 행동 데이터 분포 시각화\n",
        "plt.hist(user_data, bins=10, density=True, alpha=0.8)\n",
        "plt.show()\n",
        "\n",
        "\n",
        "# x 축은 0~1 사이, 사용자의 특정 행동\n",
        "# y 축은 각 행동 값에 대한 확률 밀도"
      ]
    },
    {
      "cell_type": "code",
      "source": [],
      "metadata": {
        "id": "cPtCANQ8QbK6"
      },
      "execution_count": null,
      "outputs": []
    }
  ]
}