{
  "nbformat": 4,
  "nbformat_minor": 0,
  "metadata": {
    "colab": {
      "provenance": [],
      "authorship_tag": "ABX9TyOrlnHAnb6UJBtxwElCYDnc",
      "include_colab_link": true
    },
    "kernelspec": {
      "name": "python3",
      "display_name": "Python 3"
    },
    "language_info": {
      "name": "python"
    }
  },
  "cells": [
    {
      "cell_type": "markdown",
      "metadata": {
        "id": "view-in-github",
        "colab_type": "text"
      },
      "source": [
        "<a href=\"https://colab.research.google.com/github/daeyeong8855/statistical_data_analysis/blob/main/%ED%86%B5%EA%B3%84_%EB%8D%B0%EC%9D%B4%ED%84%B0%EB%B6%84%EC%84%9D_%EB%A7%A8_%ED%9C%98%ED%8A%B8%EB%8B%88_U_%EA%B2%80%EC%A0%95.ipynb\" target=\"_parent\"><img src=\"https://colab.research.google.com/assets/colab-badge.svg\" alt=\"Open In Colab\"/></a>"
      ]
    },
    {
      "cell_type": "code",
      "execution_count": 4,
      "metadata": {
        "colab": {
          "base_uri": "https://localhost:8080/"
        },
        "id": "qX4X79HbrYq-",
        "outputId": "57dad8af-1b5f-493e-bae1-c58481c91f3f"
      },
      "outputs": [
        {
          "output_type": "stream",
          "name": "stdout",
          "text": [
            "-4.754695943505288 3.819135262679343e-06\n",
            "30.0 0.06451612903225806\n"
          ]
        }
      ],
      "source": [
        "import numpy as np\n",
        "from scipy import stats\n",
        "\n",
        "\n",
        "# 모수 검정 데이터\n",
        "np.random.seed(42)\n",
        "n = 100\n",
        "mu1, mu2 = 0, 0.5\n",
        "sigma = 1\n",
        "data1 = np.random.normal(mu1, sigma, n)\n",
        "data2 = np.random.normal(mu2, sigma, n)\n",
        "\n",
        "# 비모수 검정 데이터\n",
        "m = 30\n",
        "data3 = np.random.uniform(0.1, m)\n",
        "data4 = np.random.uniform(0.5, 1.5, m)\n",
        "\n",
        "# 모수검정\n",
        "t_stat, p_val = stats.ttest_ind(data1, data2)\n",
        "print(t_stat, p_val)\n",
        "\n",
        "# 비모수 검정\n",
        "u_stat, p_val = stats.mannwhitneyu(data3, data4)\n",
        "\n",
        "print(u_stat, p_val)"
      ]
    },
    {
      "cell_type": "code",
      "source": [],
      "metadata": {
        "id": "S2ZUIdTgr_fs"
      },
      "execution_count": null,
      "outputs": []
    }
  ]
}