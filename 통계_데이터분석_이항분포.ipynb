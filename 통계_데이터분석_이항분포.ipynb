{
  "nbformat": 4,
  "nbformat_minor": 0,
  "metadata": {
    "colab": {
      "provenance": [],
      "authorship_tag": "ABX9TyNuB8iKR8xoIGmskrf0+Nkm",
      "include_colab_link": true
    },
    "kernelspec": {
      "name": "python3",
      "display_name": "Python 3"
    },
    "language_info": {
      "name": "python"
    }
  },
  "cells": [
    {
      "cell_type": "markdown",
      "metadata": {
        "id": "view-in-github",
        "colab_type": "text"
      },
      "source": [
        "<a href=\"https://colab.research.google.com/github/daeyeong8855/statistical_data_analysis/blob/main/%ED%86%B5%EA%B3%84_%EB%8D%B0%EC%9D%B4%ED%84%B0%EB%B6%84%EC%84%9D_%EC%9D%B4%ED%95%AD%EB%B6%84%ED%8F%AC.ipynb\" target=\"_parent\"><img src=\"https://colab.research.google.com/assets/colab-badge.svg\" alt=\"Open In Colab\"/></a>"
      ]
    },
    {
      "cell_type": "code",
      "execution_count": 5,
      "metadata": {
        "id": "jFSfxeM6c3uN"
      },
      "outputs": [],
      "source": [
        "import numpy as np\n",
        "import matplotlib.pyplot as plt\n",
        "from scipy.stats import binom"
      ]
    },
    {
      "cell_type": "code",
      "source": [
        "# 이항 분포 모델링\n",
        "n = 10\n",
        "p = 0.5\n",
        "\n",
        "# 이항 분포 시뮬레이션\n",
        "num_simulations = 1000 #시뮬레이션 횟수\n",
        "successes = np.random.binomial(n,p, num_simulations)\n",
        "\n",
        "plt.hist(successes, bins=11, range=(0,10), alpha=0.8) #bins는 히스토그램의 구간"
      ],
      "metadata": {
        "colab": {
          "base_uri": "https://localhost:8080/",
          "height": 523
        },
        "id": "-vjt-QSrezu0",
        "outputId": "1c04c2de-5181-437c-843a-ffe3f3c297f1"
      },
      "execution_count": 6,
      "outputs": [
        {
          "output_type": "execute_result",
          "data": {
            "text/plain": [
              "(array([  1.,   9.,  50., 108., 212., 235., 225., 109.,  41.,   9.,   1.]),\n",
              " array([ 0.        ,  0.90909091,  1.81818182,  2.72727273,  3.63636364,\n",
              "         4.54545455,  5.45454545,  6.36363636,  7.27272727,  8.18181818,\n",
              "         9.09090909, 10.        ]),\n",
              " <BarContainer object of 11 artists>)"
            ]
          },
          "metadata": {},
          "execution_count": 6
        },
        {
          "output_type": "display_data",
          "data": {
            "text/plain": [
              "<Figure size 640x480 with 1 Axes>"
            ],
            "image/png": "[encoded data removed]"
          },
          "metadata": {}
        }
      ]
    },
    {
      "cell_type": "code",
      "source": [],
      "metadata": {
        "id": "qSGoE1IRfPJa"
      },
      "execution_count": null,
      "outputs": []
    }
  ]
}